{
 "cells": [
  {
   "cell_type": "code",
   "execution_count": 13,
   "metadata": {},
   "outputs": [],
   "source": [
    "import torch\n",
    "from torch.utils.data import DataLoader\n",
    "from dataset import TIFDataset\n",
    "# from models import SimVP\n",
    "from simvp import SimVP\n",
    "import torch.optim as optim\n",
    "import os\n",
    "# import matplotlib.pyplot as plt\n"
   ]
  },
  {
   "cell_type": "code",
   "execution_count": 14,
   "metadata": {},
   "outputs": [
    {
     "name": "stdout",
     "output_type": "stream",
     "text": [
      "Using root_dir: C:\\study\\school-project\\AI\\qpn-simvp\\DATA_SV\\Precipitation\\Radar\\2019\\10\\01\n",
      "Does root_dir exist? Yes\n",
      "Using device: cpu\n"
     ]
    }
   ],
   "source": [
    "root_dir = r'C:\\study\\school-project\\AI\\qpn-simvp\\DATA_SV\\Precipitation\\Radar\\2019\\10\\01'\n",
    "save_dir = r'C:\\study\\school-project\\AI\\qpn-simvp\\save'\n",
    "os.makedirs(save_dir, exist_ok=True)\n",
    "print(f\"Using root_dir: {root_dir}\")\n",
    "print(f\"Does root_dir exist? {'Yes' if os.path.exists(root_dir) else 'No'}\")\n",
    "\n",
    "device = 'cuda' if torch.cuda.is_available() else 'cpu'\n",
    "print(f'Using device: {device}')\n",
    "\n",
    "dataset = TIFDataset(root_dir)\n",
    "# Batch size of 1 given the sequence nature\n",
    "dataloader = DataLoader(dataset, batch_size=1, shuffle=True)\n",
    "\n",
    "shape_in = (12, 1, 304, 304)  # Adjust accordingly\n",
    "model = SimVP(shape_in, hid_S=16, hid_T=256, N_S=4,\n",
    "              N_T=8, incep_ker=[3, 5, 7, 11], groups=8)\n",
    "model = model.to(device)\n",
    "\n",
    "criterion = torch.nn.MSELoss()  # Example: MSE loss for prediction tasks\n",
    "optimizer = optim.Adam(model.parameters(), lr=0.001)"
   ]
  },
  {
   "cell_type": "code",
   "execution_count": 15,
   "metadata": {},
   "outputs": [
    {
     "ename": "AttributeError",
     "evalue": "'list' object has no attribute 'to'",
     "output_type": "error",
     "traceback": [
      "\u001b[1;31m---------------------------------------------------------------------------\u001b[0m",
      "\u001b[1;31mAttributeError\u001b[0m                            Traceback (most recent call last)",
      "Cell \u001b[1;32mIn[15], line 15\u001b[0m\n\u001b[0;32m     12\u001b[0m \u001b[38;5;28;01mfor\u001b[39;00m epoch \u001b[38;5;129;01min\u001b[39;00m \u001b[38;5;28mrange\u001b[39m(num_epochs):\n\u001b[0;32m     13\u001b[0m     \u001b[38;5;28;01mfor\u001b[39;00m batch_idx, inputs \u001b[38;5;129;01min\u001b[39;00m \u001b[38;5;28menumerate\u001b[39m(dataloader):\n\u001b[0;32m     14\u001b[0m         \u001b[38;5;66;03m# Ensure inputs are on the correct device\u001b[39;00m\n\u001b[1;32m---> 15\u001b[0m         inputs \u001b[38;5;241m=\u001b[39m \u001b[43minputs\u001b[49m\u001b[38;5;241;43m.\u001b[39;49m\u001b[43mto\u001b[49m(device)\n\u001b[0;32m     17\u001b[0m         \u001b[38;5;28;01mif\u001b[39;00m check_nan(inputs, \u001b[38;5;124m\"\u001b[39m\u001b[38;5;124mInputs\u001b[39m\u001b[38;5;124m\"\u001b[39m):\n\u001b[0;32m     18\u001b[0m           \u001b[38;5;28mprint\u001b[39m(\u001b[38;5;124m\"\u001b[39m\u001b[38;5;124mNaN detected in inputs, skipping this batch.\u001b[39m\u001b[38;5;124m\"\u001b[39m)\n",
      "\u001b[1;31mAttributeError\u001b[0m: 'list' object has no attribute 'to'"
     ]
    }
   ],
   "source": [
    "\n",
    "# Training loop\n",
    "num_epochs = 10  # Define the number of epochs you want to train for\n",
    "time_step_buffer = []  # Initialize the buffer outside the epoch loop\n",
    "sequence_length = 12  # Define the desired sequence length\n",
    "\n",
    "def check_nan(tensor, name=\"Tensor\"):\n",
    "  \"\"\"Utility function to check for NaN values in a tensor.\"\"\"\n",
    "  isnan = torch.isnan(tensor).any().item()\n",
    "  print(f\"{name} contains NaN: {isnan}\")\n",
    "  return isnan\n",
    "\n",
    "for epoch in range(num_epochs):\n",
    "    for batch_idx, inputs in enumerate(dataloader):\n",
    "        # Ensure inputs are on the correct device\n",
    "        inputs = inputs.to(device)\n",
    "\n",
    "        if check_nan(inputs, \"Inputs\"):\n",
    "          print(\"NaN detected in inputs, skipping this batch.\")\n",
    "          continue\n",
    "\n",
    "        # Accumulate time steps in the buffer\n",
    "        time_step_buffer.append(inputs)\n",
    "\n",
    "        # Proceed only if we have accumulated enough time steps\n",
    "        if len(time_step_buffer) == sequence_length:\n",
    "            # Stack the accumulated time steps along a new dimension\n",
    "            sequence_input = torch.stack(time_step_buffer, dim=1)  # Resulting shape should be [1, sequence_length, 1, 90, 250]\n",
    "            sequence_input = sequence_input.squeeze(2)  # Adjust the squeezing depending on your actual data shape\n",
    "            \n",
    "            # Ensure the sequence is on the correct device\n",
    "            sequence_input = sequence_input.to(device)\n",
    "\n",
    "            # Simulate targets for now; adjust as necessary for your application\n",
    "            # Here, just for the sake of having a target of matching dimensions\n",
    "            targets = torch.randn_like(sequence_input)  # Creating dummy targets of the same shape as sequence_input\n",
    "            targets = targets.to(device)\n",
    "\n",
    "            optimizer.zero_grad()\n",
    "\n",
    "            # print(f\"Input shape before model: {sequence_input.shape}\")  # Ensure this matches your model's expected input\n",
    "            sequence_input = sequence_input.unsqueeze(2)  # Add a singleton channel dimension\n",
    "            # print(f\"Adjusted input shape before model: {sequence_input.shape}\")\n",
    "            outputs = model(sequence_input)\n",
    "\n",
    "            if check_nan(outputs, \"Outputs\"):\n",
    "              print(\"NaN detected in model outputs, skipping this batch.\")\n",
    "              continue\n",
    "\n",
    "            loss = criterion(outputs, targets)  # Compute loss\n",
    "            if check_nan(loss, \"Loss\"):\n",
    "              print(\"NaN detected in loss, skipping this batch.\")\n",
    "              continue\n",
    "            loss.backward()  # Backpropagation\n",
    "            optimizer.step()  # Update model parameters\n",
    "\n",
    "            # Clear the buffer for the next sequence\n",
    "            time_step_buffer.clear()\n",
    "\n",
    "            if batch_idx % 10 == 0:  # Print every 10 batches\n",
    "                print(f'Epoch [{epoch+1}/{num_epochs}], Step [{batch_idx+1}/{len(dataloader)}], Loss: {loss.item()}')\n",
    "\n",
    "    # Save the model after each epoch\n",
    "    model_save_path = os.path.join(save_dir, f'model_epoch_{epoch}.pth')\n",
    "    torch.save(model.state_dict(), model_save_path)\n",
    "    print(f\"Model saved for epoch {epoch} at {model_save_path}\")\n",
    "    # torch.save(model.state_dict(), f'model_epoch_{epoch}.pth')\n",
    "    # print(f'Model saved for epoch {epoch}')\n",
    "  \n"
   ]
  },
  {
   "cell_type": "code",
   "execution_count": null,
   "metadata": {},
   "outputs": [
    {
     "name": "stderr",
     "output_type": "stream",
     "text": [
      "<>:1: SyntaxWarning: invalid escape sequence '\\m'\n",
      "<>:1: SyntaxWarning: invalid escape sequence '\\m'\n",
      "C:\\Users\\ADMIN\\AppData\\Local\\Temp\\ipykernel_9764\\2308769487.py:1: SyntaxWarning: invalid escape sequence '\\m'\n",
      "  model.load_state_dict(torch.load('pth\\model_epoch_9.pth', map_location=torch.device('cpu')))\n"
     ]
    },
    {
     "name": "stdout",
     "output_type": "stream",
     "text": [
      "Looking in root_dir: D:\\Workspace\\Projects\\qpn-simvp\\data\\DATA_SV\\Precipitation\\Radar\\2020\\10\n"
     ]
    },
    {
     "name": "stderr",
     "output_type": "stream",
     "text": [
      "C:\\Users\\ADMIN\\AppData\\Local\\Temp\\ipykernel_9764\\2308769487.py:1: SyntaxWarning: invalid escape sequence '\\m'\n",
      "  model.load_state_dict(torch.load('pth\\model_epoch_9.pth', map_location=torch.device('cpu')))\n"
     ]
    },
    {
     "ename": "AttributeError",
     "evalue": "'DataLoader' object has no attribute 'size'",
     "output_type": "error",
     "traceback": [
      "\u001b[1;31m---------------------------------------------------------------------------\u001b[0m",
      "\u001b[1;31mAttributeError\u001b[0m                            Traceback (most recent call last)",
      "Cell \u001b[1;32mIn[3], line 10\u001b[0m\n\u001b[0;32m      6\u001b[0m val_dataset \u001b[38;5;241m=\u001b[39m TIFDataset(val_root_dir)\n\u001b[0;32m      8\u001b[0m y \u001b[38;5;241m=\u001b[39m DataLoader(val_dataset, batch_size\u001b[38;5;241m=\u001b[39m\u001b[38;5;241m1\u001b[39m, shuffle\u001b[38;5;241m=\u001b[39m\u001b[38;5;28;01mTrue\u001b[39;00m)  \u001b[38;5;66;03m# Batch size of 1 given the sequence nature\u001b[39;00m\n\u001b[1;32m---> 10\u001b[0m loss \u001b[38;5;241m=\u001b[39m torch\u001b[38;5;241m.\u001b[39msqrt(\u001b[43mcriterion\u001b[49m\u001b[43m(\u001b[49m\u001b[43mx\u001b[49m\u001b[43m,\u001b[49m\u001b[43m \u001b[49m\u001b[43my\u001b[49m\u001b[43m)\u001b[49m)\n\u001b[0;32m     11\u001b[0m loss\u001b[38;5;241m.\u001b[39mbackward()\n\u001b[0;32m     12\u001b[0m x\u001b[38;5;241m.\u001b[39mgrad\n",
      "File \u001b[1;32md:\\anaconda3\\envs\\SimVP\\Lib\\site-packages\\torch\\nn\\modules\\module.py:1511\u001b[0m, in \u001b[0;36mModule._wrapped_call_impl\u001b[1;34m(self, *args, **kwargs)\u001b[0m\n\u001b[0;32m   1509\u001b[0m     \u001b[38;5;28;01mreturn\u001b[39;00m \u001b[38;5;28mself\u001b[39m\u001b[38;5;241m.\u001b[39m_compiled_call_impl(\u001b[38;5;241m*\u001b[39margs, \u001b[38;5;241m*\u001b[39m\u001b[38;5;241m*\u001b[39mkwargs)  \u001b[38;5;66;03m# type: ignore[misc]\u001b[39;00m\n\u001b[0;32m   1510\u001b[0m \u001b[38;5;28;01melse\u001b[39;00m:\n\u001b[1;32m-> 1511\u001b[0m     \u001b[38;5;28;01mreturn\u001b[39;00m \u001b[38;5;28;43mself\u001b[39;49m\u001b[38;5;241;43m.\u001b[39;49m\u001b[43m_call_impl\u001b[49m\u001b[43m(\u001b[49m\u001b[38;5;241;43m*\u001b[39;49m\u001b[43margs\u001b[49m\u001b[43m,\u001b[49m\u001b[43m \u001b[49m\u001b[38;5;241;43m*\u001b[39;49m\u001b[38;5;241;43m*\u001b[39;49m\u001b[43mkwargs\u001b[49m\u001b[43m)\u001b[49m\n",
      "File \u001b[1;32md:\\anaconda3\\envs\\SimVP\\Lib\\site-packages\\torch\\nn\\modules\\module.py:1520\u001b[0m, in \u001b[0;36mModule._call_impl\u001b[1;34m(self, *args, **kwargs)\u001b[0m\n\u001b[0;32m   1515\u001b[0m \u001b[38;5;66;03m# If we don't have any hooks, we want to skip the rest of the logic in\u001b[39;00m\n\u001b[0;32m   1516\u001b[0m \u001b[38;5;66;03m# this function, and just call forward.\u001b[39;00m\n\u001b[0;32m   1517\u001b[0m \u001b[38;5;28;01mif\u001b[39;00m \u001b[38;5;129;01mnot\u001b[39;00m (\u001b[38;5;28mself\u001b[39m\u001b[38;5;241m.\u001b[39m_backward_hooks \u001b[38;5;129;01mor\u001b[39;00m \u001b[38;5;28mself\u001b[39m\u001b[38;5;241m.\u001b[39m_backward_pre_hooks \u001b[38;5;129;01mor\u001b[39;00m \u001b[38;5;28mself\u001b[39m\u001b[38;5;241m.\u001b[39m_forward_hooks \u001b[38;5;129;01mor\u001b[39;00m \u001b[38;5;28mself\u001b[39m\u001b[38;5;241m.\u001b[39m_forward_pre_hooks\n\u001b[0;32m   1518\u001b[0m         \u001b[38;5;129;01mor\u001b[39;00m _global_backward_pre_hooks \u001b[38;5;129;01mor\u001b[39;00m _global_backward_hooks\n\u001b[0;32m   1519\u001b[0m         \u001b[38;5;129;01mor\u001b[39;00m _global_forward_hooks \u001b[38;5;129;01mor\u001b[39;00m _global_forward_pre_hooks):\n\u001b[1;32m-> 1520\u001b[0m     \u001b[38;5;28;01mreturn\u001b[39;00m \u001b[43mforward_call\u001b[49m\u001b[43m(\u001b[49m\u001b[38;5;241;43m*\u001b[39;49m\u001b[43margs\u001b[49m\u001b[43m,\u001b[49m\u001b[43m \u001b[49m\u001b[38;5;241;43m*\u001b[39;49m\u001b[38;5;241;43m*\u001b[39;49m\u001b[43mkwargs\u001b[49m\u001b[43m)\u001b[49m\n\u001b[0;32m   1522\u001b[0m \u001b[38;5;28;01mtry\u001b[39;00m:\n\u001b[0;32m   1523\u001b[0m     result \u001b[38;5;241m=\u001b[39m \u001b[38;5;28;01mNone\u001b[39;00m\n",
      "File \u001b[1;32md:\\anaconda3\\envs\\SimVP\\Lib\\site-packages\\torch\\nn\\modules\\loss.py:535\u001b[0m, in \u001b[0;36mMSELoss.forward\u001b[1;34m(self, input, target)\u001b[0m\n\u001b[0;32m    534\u001b[0m \u001b[38;5;28;01mdef\u001b[39;00m \u001b[38;5;21mforward\u001b[39m(\u001b[38;5;28mself\u001b[39m, \u001b[38;5;28minput\u001b[39m: Tensor, target: Tensor) \u001b[38;5;241m-\u001b[39m\u001b[38;5;241m>\u001b[39m Tensor:\n\u001b[1;32m--> 535\u001b[0m     \u001b[38;5;28;01mreturn\u001b[39;00m \u001b[43mF\u001b[49m\u001b[38;5;241;43m.\u001b[39;49m\u001b[43mmse_loss\u001b[49m\u001b[43m(\u001b[49m\u001b[38;5;28;43minput\u001b[39;49m\u001b[43m,\u001b[49m\u001b[43m \u001b[49m\u001b[43mtarget\u001b[49m\u001b[43m,\u001b[49m\u001b[43m \u001b[49m\u001b[43mreduction\u001b[49m\u001b[38;5;241;43m=\u001b[39;49m\u001b[38;5;28;43mself\u001b[39;49m\u001b[38;5;241;43m.\u001b[39;49m\u001b[43mreduction\u001b[49m\u001b[43m)\u001b[49m\n",
      "File \u001b[1;32md:\\anaconda3\\envs\\SimVP\\Lib\\site-packages\\torch\\nn\\functional.py:3328\u001b[0m, in \u001b[0;36mmse_loss\u001b[1;34m(input, target, size_average, reduce, reduction)\u001b[0m\n\u001b[0;32m   3324\u001b[0m \u001b[38;5;28;01mif\u001b[39;00m has_torch_function_variadic(\u001b[38;5;28minput\u001b[39m, target):\n\u001b[0;32m   3325\u001b[0m     \u001b[38;5;28;01mreturn\u001b[39;00m handle_torch_function(\n\u001b[0;32m   3326\u001b[0m         mse_loss, (\u001b[38;5;28minput\u001b[39m, target), \u001b[38;5;28minput\u001b[39m, target, size_average\u001b[38;5;241m=\u001b[39msize_average, reduce\u001b[38;5;241m=\u001b[39mreduce, reduction\u001b[38;5;241m=\u001b[39mreduction\n\u001b[0;32m   3327\u001b[0m     )\n\u001b[1;32m-> 3328\u001b[0m \u001b[38;5;28;01mif\u001b[39;00m \u001b[38;5;129;01mnot\u001b[39;00m (\u001b[43mtarget\u001b[49m\u001b[38;5;241;43m.\u001b[39;49m\u001b[43msize\u001b[49m() \u001b[38;5;241m==\u001b[39m \u001b[38;5;28minput\u001b[39m\u001b[38;5;241m.\u001b[39msize()):\n\u001b[0;32m   3329\u001b[0m     warnings\u001b[38;5;241m.\u001b[39mwarn(\n\u001b[0;32m   3330\u001b[0m         \u001b[38;5;124mf\u001b[39m\u001b[38;5;124m\"\u001b[39m\u001b[38;5;124mUsing a target size (\u001b[39m\u001b[38;5;132;01m{\u001b[39;00mtarget\u001b[38;5;241m.\u001b[39msize()\u001b[38;5;132;01m}\u001b[39;00m\u001b[38;5;124m) that is different to the input size (\u001b[39m\u001b[38;5;132;01m{\u001b[39;00m\u001b[38;5;28minput\u001b[39m\u001b[38;5;241m.\u001b[39msize()\u001b[38;5;132;01m}\u001b[39;00m\u001b[38;5;124m). \u001b[39m\u001b[38;5;124m\"\u001b[39m\n\u001b[0;32m   3331\u001b[0m         \u001b[38;5;124m\"\u001b[39m\u001b[38;5;124mThis will likely lead to incorrect results due to broadcasting. \u001b[39m\u001b[38;5;124m\"\u001b[39m\n\u001b[0;32m   3332\u001b[0m         \u001b[38;5;124m\"\u001b[39m\u001b[38;5;124mPlease ensure they have the same size.\u001b[39m\u001b[38;5;124m\"\u001b[39m,\n\u001b[0;32m   3333\u001b[0m         stacklevel\u001b[38;5;241m=\u001b[39m\u001b[38;5;241m2\u001b[39m,\n\u001b[0;32m   3334\u001b[0m     )\n\u001b[0;32m   3335\u001b[0m \u001b[38;5;28;01mif\u001b[39;00m size_average \u001b[38;5;129;01mis\u001b[39;00m \u001b[38;5;129;01mnot\u001b[39;00m \u001b[38;5;28;01mNone\u001b[39;00m \u001b[38;5;129;01mor\u001b[39;00m reduce \u001b[38;5;129;01mis\u001b[39;00m \u001b[38;5;129;01mnot\u001b[39;00m \u001b[38;5;28;01mNone\u001b[39;00m:\n",
      "\u001b[1;31mAttributeError\u001b[0m: 'DataLoader' object has no attribute 'size'"
     ]
    }
   ],
   "source": [
    "model.load_state_dict(torch.load('pth\\model_epoch_9.pth', map_location=torch.device('cpu')))\n",
    "model.eval()\n",
    "val_dataset = TIFDataset(val_root_dir)  # Ensure this class is defined to handle your data format\n",
    "val_dataloader = DataLoader(val_dataset, batch_size=1, shuffle=False)  # Shuffle usually False for validation\n",
    "\n",
    "# Evaluate the model on the validation dataset\n",
    "val_losses = []\n",
    "with torch.no_grad():  # Disables gradient calculation\n",
    "    for val_inputs in val_dataloader:\n",
    "        val_inputs = val_inputs.to(device)  # Move data to the correct device\n",
    "\n",
    "        # Simulate the targets for validation set; in practice, you should have true targets\n",
    "        # Ensure that the shape of val_targets matches model's output expected shape\n",
    "        val_targets = torch.randn_like(val_inputs)\n",
    "\n",
    "        # Forward pass\n",
    "        val_outputs = model(val_inputs)\n",
    "\n",
    "        # Calculate the loss\n",
    "        val_loss = torch.sqrt(criterion(val_outputs, val_targets))  # Using RMSE as per your example\n",
    "        val_losses.append(val_loss.item())\n",
    "\n",
    "# Calculate average validation loss\n",
    "avg_val_loss = sum(val_losses) / len(val_losses)\n",
    "print(f'Average validation RMSE loss: {avg_val_loss}')"
   ]
  }
 ],
 "metadata": {
  "kernelspec": {
   "display_name": "Python 3",
   "language": "python",
   "name": "python3"
  },
  "language_info": {
   "codemirror_mode": {
    "name": "ipython",
    "version": 3
   },
   "file_extension": ".py",
   "mimetype": "text/x-python",
   "name": "python",
   "nbconvert_exporter": "python",
   "pygments_lexer": "ipython3",
   "version": "3.12.1"
  }
 },
 "nbformat": 4,
 "nbformat_minor": 2
}
